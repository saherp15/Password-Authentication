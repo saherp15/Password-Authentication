{
 "cells": [
  {
   "cell_type": "code",
   "execution_count": 2,
   "id": "9178b6ca",
   "metadata": {},
   "outputs": [
    {
     "name": "stdout",
     "output_type": "stream",
     "text": [
      "Enter username :uhuhre\n",
      "Username not registered\n"
     ]
    }
   ],
   "source": [
    "Dictionary={\"user1\":123445,\"user2\":99459}\n",
    "key1=[]\n",
    "value1=[]\n",
    "for key,value in Dictionary.items():\n",
    "    key1.append(key)\n",
    "    value1.append(value)\n",
    "user=input(\"Enter username :\")\n",
    "ans=None\n",
    "for i in key1:\n",
    "    if user==i:\n",
    "        password=int(input(\"Enter Password :\"))\n",
    "        for j in value1:\n",
    "            if password==j:\n",
    "                ans=1\n",
    "                break\n",
    "            else:\n",
    "                ans=0\n",
    "                break\n",
    "        if ans==1:\n",
    "            print(\"Verified\")\n",
    "            break\n",
    "        else:\n",
    "            print(\"Incorrect Password\")\n",
    "            break\n",
    "else:\n",
    "    if user!=i or password!=j:\n",
    "        print(\"Username not registered\")"
   ]
  },
  {
   "cell_type": "code",
   "execution_count": null,
   "id": "210d1658",
   "metadata": {},
   "outputs": [],
   "source": []
  }
 ],
 "metadata": {
  "kernelspec": {
   "display_name": "Python 3 (ipykernel)",
   "language": "python",
   "name": "python3"
  },
  "language_info": {
   "codemirror_mode": {
    "name": "ipython",
    "version": 3
   },
   "file_extension": ".py",
   "mimetype": "text/x-python",
   "name": "python",
   "nbconvert_exporter": "python",
   "pygments_lexer": "ipython3",
   "version": "3.9.7"
  }
 },
 "nbformat": 4,
 "nbformat_minor": 5
}
